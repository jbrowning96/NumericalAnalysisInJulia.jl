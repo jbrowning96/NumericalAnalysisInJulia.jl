{
 "cells": [
  {
   "cell_type": "code",
   "execution_count": 144,
   "metadata": {},
   "outputs": [],
   "source": [
    "using LinearAlgebra\n",
    "using Revise"
   ]
  },
  {
   "attachments": {},
   "cell_type": "markdown",
   "metadata": {},
   "source": [
    "### Row Reduction by Naive Guassian Elimination (No Pivots)"
   ]
  },
  {
   "attachments": {},
   "cell_type": "markdown",
   "metadata": {},
   "source": [
    "Elimination Routine:\n",
    "\n",
    "For the matrix $$\\begin{bmatrix} a_{1,1}  & \\dots &  a_{1,n} \\\\ a_{2,1} & \\dots & a_{2,n} \\\\ \\vdots & \\ddots & \\vdots \\\\ a_{n,1} & \\dots & a_{n,n} \\end{bmatrix}$$"
   ]
  },
  {
   "cell_type": "code",
   "execution_count": 145,
   "metadata": {},
   "outputs": [
    {
     "data": {
      "text/plain": [
       "NaiveGaussJordan (generic function with 1 method)"
      ]
     },
     "metadata": {},
     "output_type": "display_data"
    }
   ],
   "source": [
    "function EliminateRow(i,j, A::AbstractArray)\n",
    "    pivot = A[i,i]\n",
    "    target = A[j,i]\n",
    "    multiplier =  target/pivot\n",
    "\n",
    "    A[j,:] = A[j,:] - (multiplier * A[i,:])\n",
    "    return copy(A)\n",
    "end\n",
    "\n",
    "function MakeAugmentedForm(A::AbstractArray, b::AbstractArray)\n",
    "    ## Error Checking\n",
    "    A = Float64.(A)\n",
    "    b = Float64.(b)\n",
    "    if size(A)[1] == size(A)[2]\n",
    "        A = copy(hcat(A,b))\n",
    "        return A\n",
    "    else\n",
    "        println(\"Matrix is not square! Exiting With Error Code -1\")\n",
    "        return -1\n",
    "    end\n",
    "end\n",
    "\n",
    "function NaiveGaussJordan(A::AbstractArray, b::AbstractArray)\n",
    "    A = Float64.(A)\n",
    "    b = Float64.(b)\n",
    "\n",
    "    A = copy(MakeAugmentedForm(A,b))\n",
    "    if A == -1\n",
    "        return\n",
    "    end\n",
    "    for i in range(1,size(A)[1])\n",
    "        for j in range(i+1, size(A)[1])\n",
    "            #Checking for 0's:\n",
    "            if A[j,i] != 0\n",
    "                EliminateRow(i,j,A)\n",
    "                #display(A)\n",
    "            else\n",
    "                #display(A)\n",
    "                continue\n",
    "            end\n",
    "        end\n",
    "    end\n",
    "    return A\n",
    "end"
   ]
  },
  {
   "cell_type": "code",
   "execution_count": 146,
   "metadata": {},
   "outputs": [
    {
     "data": {
      "text/plain": [
       "3×4 Matrix{Float64}:\n",
       " 1.0  2.0  -1.0      2.0\n",
       " 0.0  3.0   1.0      4.0\n",
       " 0.0  0.0   4.66667  4.66667"
      ]
     },
     "metadata": {},
     "output_type": "display_data"
    }
   ],
   "source": [
    "#### Problem 1\n",
    "\n",
    "A1 = [1 2 -1 ; 0 3 1 ; 2 -1 1];\n",
    "b1 = [2;4;2];\n",
    "\n",
    "A1 = NaiveGaussJordan(A1, b1)\n",
    "\n",
    "\n"
   ]
  },
  {
   "attachments": {},
   "cell_type": "markdown",
   "metadata": {},
   "source": [
    "#### Gauss Jordan with Partial Pivoting"
   ]
  },
  {
   "cell_type": "code",
   "execution_count": 148,
   "metadata": {},
   "outputs": [
    {
     "data": {
      "text/plain": [
       "GaussJordanPartialPivot (generic function with 1 method)"
      ]
     },
     "metadata": {},
     "output_type": "display_data"
    }
   ],
   "source": [
    "function SwapRows(currentPivotRow, maxRow, A::DataType)\n",
    "    Dummy = copy(A[currentPivotRow,:])\n",
    "    A[currentPivotRow,:] = copy(A[maxRow,:])\n",
    "    A[maxRow,:] = copy(Dummy)\n",
    "    return A\n",
    "end\n",
    "\n",
    "function PartialPivot(i, A::AbstractArray)\n",
    "    # Finding Max Element\n",
    "    max = A[i,i]\n",
    "    maxRow = i\n",
    "    for row in range(i,size(A)[1])\n",
    "        if A[row,i] > max\n",
    "            max = A[row,i]\n",
    "            maxRow = row\n",
    "        end\n",
    "    end\n",
    "    # Swap the Row with the Maximum Value with the current Pivot Row\n",
    "    A = copy(SwapRows(i,maxRow, A))\n",
    "\n",
    "end\n",
    "\n",
    "function GaussJordanPartialPivot(A::AbstractArray, b::AbstractArray)\n",
    "    A = Float64.(A)\n",
    "    b = Float64.(b)\n",
    "\n",
    "    A = copy(MakeAugmentedForm(A,b))\n",
    "    if A == -1\n",
    "        return\n",
    "    end\n",
    "\n",
    "    for i in range(1,size(A)[1])\n",
    "        PartialPivot(i,A)\n",
    "        for j in range(i+1, size(A)[1])\n",
    "            #Checking for 0's:\n",
    "            if A[j,i] != 0\n",
    "                EliminateRow(i,j,A)\n",
    "            else\n",
    "                continue\n",
    "            end\n",
    "        end\n",
    "    end\n",
    "    return A\n",
    "end\n"
   ]
  },
  {
   "cell_type": "code",
   "execution_count": 149,
   "metadata": {},
   "outputs": [
    {
     "data": {
      "text/plain": [
       "3×4 Matrix{Float64}:\n",
       " 6.0   3.0  4.0   1.0\n",
       " 0.0  -0.5  0.0  -0.5\n",
       " 0.0   0.0  3.0   3.0"
      ]
     },
     "metadata": {},
     "output_type": "display_data"
    }
   ],
   "source": [
    "A2 = [3 1 2; 6 3 4; 3 1 5];\n",
    "b2 = [0; 1; 3];\n",
    "\n",
    "GaussJordanPartialPivot(A2,b2)"
   ]
  }
 ],
 "metadata": {
  "kernelspec": {
   "display_name": "Julia 1.8.5",
   "language": "julia",
   "name": "julia-1.8"
  },
  "language_info": {
   "file_extension": ".jl",
   "mimetype": "application/julia",
   "name": "julia",
   "version": "1.8.5"
  },
  "orig_nbformat": 4,
  "vscode": {
   "interpreter": {
    "hash": "916dbcbb3f70747c44a77c7bcd40155683ae19c65e1c03b4aa3499c5328201f1"
   }
  }
 },
 "nbformat": 4,
 "nbformat_minor": 2
}
